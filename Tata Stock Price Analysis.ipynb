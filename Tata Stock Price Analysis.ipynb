{
  "nbformat": 4,
  "nbformat_minor": 0,
  "metadata": {
    "colab": {
      "name": "Untitled0.ipynb",
      "provenance": [],
      "authorship_tag": "ABX9TyON8+cFUHKwuM6trKm3mRqi"
    },
    "kernelspec": {
      "name": "python3",
      "display_name": "Python 3"
    },
    "language_info": {
      "name": "python"
    }
  },
  "cells": [
    {
      "cell_type": "code",
      "execution_count": 5,
      "metadata": {
        "id": "aYc8vl2YCRty",
        "colab": {
          "base_uri": "https://localhost:8080/",
          "height": 282
        },
        "outputId": "6b7c1b8a-4807-4d38-9a43-babaf1c4d036"
      },
      "outputs": [
        {
          "output_type": "execute_result",
          "data": {
            "text/plain": [
              "[<matplotlib.lines.Line2D at 0x7f33a0789450>]"
            ]
          },
          "metadata": {},
          "execution_count": 5
        },
        {
          "output_type": "display_data",
          "data": {
            "text/plain": [
              "<Figure size 432x288 with 1 Axes>"
            ],
            "image/png": "[encoded data removed]"
          },
          "metadata": {
            "needs_background": "light"
          }
        }
      ],
      "source": [
        "import numpy as np\n",
        "x = np.array([1,2,3,4,5,6,7,8,9,10,11,12]) \n",
        "y = np.array([295.25,333.3,485.7,475.25,497.6,504.3,447.6,441.15,432.85,444.6,412.7,449.05])\n",
        "x_dash = np.mean(x)\n",
        "y_dash = np.mean(y)\n",
        "P = (x-x_dash) * (y-y_dash)\n",
        "\n",
        "num = sum(P)\n",
        "\n",
        "Q = (x-x_dash)*(x-x_dash)\n",
        "den = sum(Q)\n",
        "\n",
        "m= num/den\n",
        "\n",
        "c=y_dash - m* x_dash\n",
        "\n",
        "Ynew=m*x + c\n",
        "import matplotlib.pyplot as plt\n",
        "plt.scatter(x,y)\n",
        "plt.scatter(x,y)\n",
        "plt.plot(x,Ynew)"
      ]
    },
    {
      "cell_type": "code",
      "source": [
        "c"
      ],
      "metadata": {
        "colab": {
          "base_uri": "https://localhost:8080/"
        },
        "id": "KJx6QDamUml0",
        "outputId": "18b838ec-f25f-4717-a3ac-2bb54f9e2479"
      },
      "execution_count": 6,
      "outputs": [
        {
          "output_type": "execute_result",
          "data": {
            "text/plain": [
              "396.7492424242425"
            ]
          },
          "metadata": {},
          "execution_count": 6
        }
      ]
    },
    {
      "cell_type": "code",
      "source": [
        "Ynew"
      ],
      "metadata": {
        "colab": {
          "base_uri": "https://localhost:8080/"
        },
        "id": "CKUbfhGqUnlT",
        "outputId": "df5e28bf-121a-4db9-fded-bf335200f8eb"
      },
      "execution_count": 8,
      "outputs": [
        {
          "output_type": "execute_result",
          "data": {
            "text/plain": [
              "array([402.62564103, 408.50203963, 414.37843823, 420.25483683,\n",
              "       426.13123543, 432.00763403, 437.88403263, 443.76043124,\n",
              "       449.63682984, 455.51322844, 461.38962704, 467.26602564])"
            ]
          },
          "metadata": {},
          "execution_count": 8
        }
      ]
    },
    {
      "cell_type": "code",
      "source": [
        ""
      ],
      "metadata": {
        "id": "K8nJGxi0UtWT"
      },
      "execution_count": null,
      "outputs": []
    }
  ]
}